{
 "cells": [
  {
   "cell_type": "code",
   "execution_count": 1,
   "id": "056c46b8",
   "metadata": {
    "_cell_guid": "b1076dfc-b9ad-4769-8c92-a6c4dae69d19",
    "_uuid": "8f2839f25d086af736a60e9eeb907d3b93b6e0e5",
    "execution": {
     "iopub.execute_input": "2024-10-12T05:54:11.269874Z",
     "iopub.status.busy": "2024-10-12T05:54:11.269440Z",
     "iopub.status.idle": "2024-10-12T05:54:17.678929Z",
     "shell.execute_reply": "2024-10-12T05:54:17.677754Z"
    },
    "papermill": {
     "duration": 6.417723,
     "end_time": "2024-10-12T05:54:17.682137",
     "exception": false,
     "start_time": "2024-10-12T05:54:11.264414",
     "status": "completed"
    },
    "tags": []
   },
   "outputs": [],
   "source": [
    "import cv2\n",
    "import numpy as np\n",
    "import os\n",
    "import torch\n",
    "import matplotlib.pyplot as plt\n",
    "from torch.utils.data import Dataset, DataLoader\n",
    "from torchvision.models.detection import fasterrcnn_resnet50_fpn\n",
    "from torchvision.models.detection.faster_rcnn import FastRCNNPredictor\n",
    "import torchvision.transforms as T\n",
    "from sklearn.metrics import precision_recall_fscore_support\n",
    "\n"
   ]
  },
  {
   "cell_type": "code",
   "execution_count": 2,
   "id": "af7b72cf",
   "metadata": {
    "execution": {
     "iopub.execute_input": "2024-10-12T05:54:17.691083Z",
     "iopub.status.busy": "2024-10-12T05:54:17.690394Z",
     "iopub.status.idle": "2024-10-12T05:54:17.708271Z",
     "shell.execute_reply": "2024-10-12T05:54:17.707118Z"
    },
    "papermill": {
     "duration": 0.025113,
     "end_time": "2024-10-12T05:54:17.710673",
     "exception": false,
     "start_time": "2024-10-12T05:54:17.685560",
     "status": "completed"
    },
    "tags": []
   },
   "outputs": [],
   "source": [
    "class HarmfulObjectDataset(Dataset):\n",
    "    def __init__(self, imgs_path, labels_path, transforms=None):\n",
    "        self.imgs_path = imgs_path\n",
    "        self.labels_path = labels_path\n",
    "        self.transforms = transforms\n",
    "        \n",
    "        self.img_names = [img for img in sorted(os.listdir(self.imgs_path)) if img.endswith(('.jpg', '.png', '.jpeg'))]\n",
    "        self.label_names = [label for label in sorted(os.listdir(self.labels_path)) if label.endswith('.txt')]\n",
    "        \n",
    "        self.img_names = [img for img in self.img_names if self._get_label_file(img)]\n",
    "\n",
    "    def _get_label_file(self, img_name):\n",
    "        base_name = img_name.rsplit('.', 1)[0]\n",
    "        label_file = f\"{base_name}.txt\"\n",
    "        return label_file if label_file in self.label_names else None\n",
    "\n",
    "    def __len__(self):\n",
    "        return len(self.img_names)\n",
    "\n",
    "    def __getitem__(self, idx):\n",
    "        img_name = self.img_names[idx]\n",
    "        img_path = os.path.join(self.imgs_path, img_name)\n",
    "        label_file = self._get_label_file(img_name)\n",
    "        label_path = os.path.join(self.labels_path, label_file)\n",
    "        \n",
    "        img = cv2.imread(img_path)\n",
    "        img_rgb = cv2.cvtColor(img, cv2.COLOR_BGR2RGB).astype(np.float32)\n",
    "        img_rgb /= 255.0\n",
    "        \n",
    "        if self.transforms:\n",
    "            img_rgb = self.transforms(img_rgb)\n",
    "        \n",
    "        with open(label_path, 'r') as f:\n",
    "            line = f.readline().strip().split()\n",
    "            label = int(line[0])\n",
    "            x_center, y_center, width, height = map(float, line[1:])\n",
    "        \n",
    "        img_height, img_width = img_rgb.shape[1], img_rgb.shape[2]\n",
    "        x_min = (x_center - width / 2) * img_width\n",
    "        y_min = (y_center - height / 2) * img_height\n",
    "        x_max = (x_center + width / 2) * img_width\n",
    "        y_max = (y_center + height / 2) * img_height\n",
    "\n",
    "        # Ensure boxes have positive width and height\n",
    "        if x_min >= x_max or y_min >= y_max:\n",
    "            raise ValueError(f\"Invalid bounding box: ({x_min}, {y_min}, {x_max}, {y_max})\")\n",
    "        \n",
    "        boxes = torch.as_tensor([[x_min, y_min, x_max, y_max]], dtype=torch.float32)\n",
    "        labels = torch.as_tensor([label], dtype=torch.int64)\n",
    "        \n",
    "        target = {\"boxes\": boxes, \"labels\": labels}\n",
    "        \n",
    "        return img_rgb, target\n"
   ]
  },
  {
   "cell_type": "code",
   "execution_count": 3,
   "id": "8e858d24",
   "metadata": {
    "execution": {
     "iopub.execute_input": "2024-10-12T05:54:17.718462Z",
     "iopub.status.busy": "2024-10-12T05:54:17.717577Z",
     "iopub.status.idle": "2024-10-12T05:54:17.726510Z",
     "shell.execute_reply": "2024-10-12T05:54:17.725384Z"
    },
    "papermill": {
     "duration": 0.016247,
     "end_time": "2024-10-12T05:54:17.729784",
     "exception": false,
     "start_time": "2024-10-12T05:54:17.713537",
     "status": "completed"
    },
    "tags": []
   },
   "outputs": [],
   "source": [
    "def get_model(num_classes):\n",
    "    model = fasterrcnn_resnet50_fpn(pretrained=True)\n",
    "    in_features = model.roi_heads.box_predictor.cls_score.in_features\n",
    "    model.roi_heads.box_predictor = FastRCNNPredictor(in_features, num_classes)\n",
    "    return model\n",
    "\n",
    "\n",
    "def make_predictions(model, image, device):\n",
    "    model.eval()\n",
    "    with torch.no_grad():\n",
    "        prediction = model(image)\n",
    "    return prediction[0]\n",
    "\n",
    "\n",
    "def calculate_iou(pred_box, gt_box):\n",
    "    # Calculate intersection\n",
    "    x_min = max(pred_box[0], gt_box[0])\n",
    "    y_min = max(pred_box[1], gt_box[1])\n",
    "    x_max = min(pred_box[2], gt_box[2])\n",
    "    y_max = min(pred_box[3], gt_box[3])\n",
    "    \n",
    "    intersection_area = max(0, x_max - x_min) * max(0, y_max - y_min)\n",
    "    \n",
    "    # Calculate union\n",
    "    pred_box_area = (pred_box[2] - pred_box[0]) * (pred_box[3] - pred_box[1])\n",
    "    gt_box_area = (gt_box[2] - gt_box[0]) * (gt_box[3] - gt_box[1])\n",
    "    \n",
    "    union_area = pred_box_area + gt_box_area - intersection_area\n",
    "    \n",
    "    iou = intersection_area / union_area\n",
    "    return iou\n",
    "\n"
   ]
  },
  {
   "cell_type": "code",
   "execution_count": 4,
   "id": "c62ce933",
   "metadata": {
    "execution": {
     "iopub.execute_input": "2024-10-12T05:54:17.740175Z",
     "iopub.status.busy": "2024-10-12T05:54:17.739628Z",
     "iopub.status.idle": "2024-10-12T05:54:17.755465Z",
     "shell.execute_reply": "2024-10-12T05:54:17.754354Z"
    },
    "papermill": {
     "duration": 0.024066,
     "end_time": "2024-10-12T05:54:17.758172",
     "exception": false,
     "start_time": "2024-10-12T05:54:17.734106",
     "status": "completed"
    },
    "tags": []
   },
   "outputs": [],
   "source": [
    "def evaluate_model(model, data_loader, iou_threshold=0.5):\n",
    "    model.eval()\n",
    "    device = torch.device(\"cpu\")  # Assuming you're running on CPU\n",
    "    \n",
    "    all_labels = []\n",
    "    all_predictions = []\n",
    "    \n",
    "    ious = []\n",
    "    precision_list = []\n",
    "    recall_list = []\n",
    "    f1_list = []\n",
    "    \n",
    "    with torch.no_grad():\n",
    "        for images, targets in data_loader:\n",
    "            images = list(image.to(device) for image in images)\n",
    "            predictions = model(images)\n",
    "\n",
    "            for i, prediction in enumerate(predictions):\n",
    "                boxes_pred = prediction['boxes'].cpu().numpy()\n",
    "                labels_pred = prediction['labels'].cpu().numpy()\n",
    "                \n",
    "                boxes_gt = targets[i]['boxes'].cpu().numpy()\n",
    "                labels_gt = targets[i]['labels'].cpu().numpy()\n",
    "                \n",
    "                for pred_box, gt_box in zip(boxes_pred, boxes_gt):\n",
    "                    iou = calculate_iou(pred_box, gt_box)\n",
    "                    ious.append(iou)\n",
    "                    \n",
    "                    if iou >= iou_threshold:\n",
    "                        all_predictions.append(1)  # True positive\n",
    "                        all_labels.append(1)\n",
    "                    else:\n",
    "                        all_predictions.append(0)  # False positive or negative\n",
    "                        all_labels.append(1)\n",
    "                \n",
    "                precision, recall, f1, _ = precision_recall_fscore_support(all_labels, all_predictions, average='binary')\n",
    "                \n",
    "                precision_list.append(precision)\n",
    "                recall_list.append(recall)\n",
    "                f1_list.append(f1)\n",
    "                \n",
    "    avg_precision = sum(precision_list) / len(precision_list)\n",
    "    avg_recall = sum(recall_list) / len(recall_list)\n",
    "    avg_f1 = sum(f1_list) / len(f1_list)\n",
    "    \n",
    "    print(f\"Average Precision: {avg_precision}\")\n",
    "    print(f\"Average Recall: {avg_recall}\")\n",
    "    print(f\"Average F1 Score: {avg_f1}\")\n",
    "\n",
    "    return avg_precision, avg_recall, avg_f1, ious\n",
    "\n"
   ]
  },
  {
   "cell_type": "code",
   "execution_count": 5,
   "id": "a0369d72",
   "metadata": {
    "execution": {
     "iopub.execute_input": "2024-10-12T05:54:17.765857Z",
     "iopub.status.busy": "2024-10-12T05:54:17.765366Z",
     "iopub.status.idle": "2024-10-12T05:54:17.774134Z",
     "shell.execute_reply": "2024-10-12T05:54:17.772946Z"
    },
    "papermill": {
     "duration": 0.015356,
     "end_time": "2024-10-12T05:54:17.776452",
     "exception": false,
     "start_time": "2024-10-12T05:54:17.761096",
     "status": "completed"
    },
    "tags": []
   },
   "outputs": [],
   "source": [
    "def plot_metrics(avg_precision, avg_recall, avg_f1, ious):\n",
    "    # Bar plot for Precision, Recall, F1-Score\n",
    "    metrics = ['Precision', 'Recall', 'F1-Score']\n",
    "    scores = [avg_precision, avg_recall, avg_f1]\n",
    "\n",
    "    plt.figure(figsize=(10, 5))\n",
    "    plt.bar(metrics, scores, color=['blue', 'green', 'red'])\n",
    "    plt.title('Precision, Recall, and F1 Score')\n",
    "    plt.show()\n",
    "\n",
    "    # Plotting IoU values\n",
    "    plt.hist(ious, bins=50, range=(0, 1), color='blue', alpha=0.7)\n",
    "    plt.title('IoU Distribution')\n",
    "    plt.xlabel('IoU')\n",
    "    plt.ylabel('Frequency')\n",
    "    plt.show()"
   ]
  },
  {
   "cell_type": "code",
   "execution_count": 6,
   "id": "11e46e7d",
   "metadata": {
    "execution": {
     "iopub.execute_input": "2024-10-12T05:54:17.783826Z",
     "iopub.status.busy": "2024-10-12T05:54:17.783362Z",
     "iopub.status.idle": "2024-10-12T05:54:17.792598Z",
     "shell.execute_reply": "2024-10-12T05:54:17.791595Z"
    },
    "papermill": {
     "duration": 0.015422,
     "end_time": "2024-10-12T05:54:17.794677",
     "exception": false,
     "start_time": "2024-10-12T05:54:17.779255",
     "status": "completed"
    },
    "tags": []
   },
   "outputs": [],
   "source": [
    "def main(image_path, model_path):\n",
    "    device = torch.device(\"cpu\")  # Set to CPU explicitly\n",
    "\n",
    "    # Load model\n",
    "    num_classes = 5  # Change according to your number of classes\n",
    "    model = get_model(num_classes)\n",
    "    model.load_state_dict(torch.load(model_path, map_location=device))  # Load model on CPU\n",
    "    model.to(device)\n",
    "\n",
    "    # Prepare dataset and data loader\n",
    "    transforms = T.Compose([T.ToTensor()])\n",
    "    dataset = HarmfulObjectDataset(imgs_path='/kaggle/input/harmful-object-detection/Harmful Object Detection/Images', labels_path='/kaggle/input/harmful-object-detection/Harmful Object Detection/Labels', transforms=transforms)\n",
    "    data_loader = DataLoader(dataset, batch_size=8, shuffle=False, collate_fn=lambda x: tuple(zip(*x)))\n",
    "\n",
    "    # Evaluate model\n",
    "    avg_precision, avg_recall, avg_f1, ious = evaluate_model(model, data_loader)\n",
    "\n",
    "    # Plot results\n",
    "    plot_metrics(avg_precision, avg_recall, avg_f1, ious)\n",
    "\n"
   ]
  },
  {
   "cell_type": "code",
   "execution_count": 7,
   "id": "09f3b0c6",
   "metadata": {
    "execution": {
     "iopub.execute_input": "2024-10-12T05:54:17.802340Z",
     "iopub.status.busy": "2024-10-12T05:54:17.801696Z",
     "iopub.status.idle": "2024-10-12T07:50:18.993188Z",
     "shell.execute_reply": "2024-10-12T07:50:18.992006Z"
    },
    "papermill": {
     "duration": 6961.198533,
     "end_time": "2024-10-12T07:50:18.996061",
     "exception": false,
     "start_time": "2024-10-12T05:54:17.797528",
     "status": "completed"
    },
    "tags": []
   },
   "outputs": [
    {
     "name": "stderr",
     "output_type": "stream",
     "text": [
      "/opt/conda/lib/python3.10/site-packages/torchvision/models/_utils.py:208: UserWarning: The parameter 'pretrained' is deprecated since 0.13 and may be removed in the future, please use 'weights' instead.\n",
      "  warnings.warn(\n",
      "/opt/conda/lib/python3.10/site-packages/torchvision/models/_utils.py:223: UserWarning: Arguments other than a weight enum or `None` for 'weights' are deprecated since 0.13 and may be removed in the future. The current behavior is equivalent to passing `weights=FasterRCNN_ResNet50_FPN_Weights.COCO_V1`. You can also use `weights=FasterRCNN_ResNet50_FPN_Weights.DEFAULT` to get the most up-to-date weights.\n",
      "  warnings.warn(msg)\n",
      "Downloading: \"https://download.pytorch.org/models/fasterrcnn_resnet50_fpn_coco-258fb6c6.pth\" to /root/.cache/torch/hub/checkpoints/fasterrcnn_resnet50_fpn_coco-258fb6c6.pth\n",
      "100%|██████████| 160M/160M [00:00<00:00, 179MB/s]\n",
      "/tmp/ipykernel_17/1012857814.py:7: FutureWarning: You are using `torch.load` with `weights_only=False` (the current default value), which uses the default pickle module implicitly. It is possible to construct malicious pickle data which will execute arbitrary code during unpickling (See https://github.com/pytorch/pytorch/blob/main/SECURITY.md#untrusted-models for more details). In a future release, the default value for `weights_only` will be flipped to `True`. This limits the functions that could be executed during unpickling. Arbitrary objects will no longer be allowed to be loaded via this mode unless they are explicitly allowlisted by the user via `torch.serialization.add_safe_globals`. We recommend you start setting `weights_only=True` for any use case where you don't have full control of the loaded file. Please open an issue on GitHub for any issues related to this experimental feature.\n",
      "  model.load_state_dict(torch.load(model_path, map_location=device))  # Load model on CPU\n",
      "/opt/conda/lib/python3.10/site-packages/sklearn/metrics/_classification.py:1344: UndefinedMetricWarning: Precision and F-score are ill-defined and being set to 0.0 due to no predicted samples. Use `zero_division` parameter to control this behavior.\n",
      "  _warn_prf(average, modifier, msg_start, len(result))\n",
      "/opt/conda/lib/python3.10/site-packages/sklearn/metrics/_classification.py:1344: UndefinedMetricWarning: Recall and F-score are ill-defined and being set to 0.0 due to no true samples. Use `zero_division` parameter to control this behavior.\n",
      "  _warn_prf(average, modifier, msg_start, len(result))\n"
     ]
    },
    {
     "name": "stdout",
     "output_type": "stream",
     "text": [
      "Average Precision: 0.9994694960212201\n",
      "Average Recall: 0.9088273299528926\n",
      "Average F1 Score: 0.9513982649755731\n"
     ]
    },
    {
     "data": {
      "image/png": "[encoded data removed]",
      "text/plain": [
       "<Figure size 1000x500 with 1 Axes>"
      ]
     },
     "metadata": {},
     "output_type": "display_data"
    },
    {
     "data": {
      "image/png": "[encoded data removed]",
      "text/plain": [
       "<Figure size 640x480 with 1 Axes>"
      ]
     },
     "metadata": {},
     "output_type": "display_data"
    }
   ],
   "source": [
    "if __name__ == \"__main__\":\n",
    "    # Specify the path to your image and the trained model\n",
    "    image_path = '/kaggle/input/harmful-object-detection/Harmful Object Detection/Images/image 12.jpeg'  # Change this to your image path\n",
    "    model_path = '/kaggle/input/hod-new-model/harmful_object_detector.pth'  # Path to your trained model\n",
    "\n",
    "    main(image_path, model_path)"
   ]
  }
 ],
 "metadata": {
  "kaggle": {
   "accelerator": "none",
   "dataSources": [
    {
     "datasetId": 5664099,
     "sourceId": 9345369,
     "sourceType": "datasetVersion"
    },
    {
     "datasetId": 5827334,
     "sourceId": 9562259,
     "sourceType": "datasetVersion"
    }
   ],
   "dockerImageVersionId": 30786,
   "isGpuEnabled": false,
   "isInternetEnabled": true,
   "language": "python",
   "sourceType": "notebook"
  },
  "kernelspec": {
   "display_name": "Python 3",
   "language": "python",
   "name": "python3"
  },
  "language_info": {
   "codemirror_mode": {
    "name": "ipython",
    "version": 3
   },
   "file_extension": ".py",
   "mimetype": "text/x-python",
   "name": "python",
   "nbconvert_exporter": "python",
   "pygments_lexer": "ipython3",
   "version": "3.10.14"
  },
  "papermill": {
   "default_parameters": {},
   "duration": 6971.560124,
   "end_time": "2024-10-12T07:50:20.230353",
   "environment_variables": {},
   "exception": null,
   "input_path": "__notebook__.ipynb",
   "output_path": "__notebook__.ipynb",
   "parameters": {},
   "start_time": "2024-10-12T05:54:08.670229",
   "version": "2.6.0"
  }
 },
 "nbformat": 4,
 "nbformat_minor": 5
}
