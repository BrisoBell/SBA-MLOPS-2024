{
 "cells": [
  {
   "cell_type": "code",
   "execution_count": 1,
   "metadata": {},
   "outputs": [],
   "source": [
    "import os"
   ]
  },
  {
   "cell_type": "code",
   "execution_count": 2,
   "metadata": {},
   "outputs": [
    {
     "data": {
      "text/plain": [
       "'c:\\\\Users\\\\Adithya\\\\Desktop\\\\chest_cancer_classification\\\\research'"
      ]
     },
     "execution_count": 2,
     "metadata": {},
     "output_type": "execute_result"
    }
   ],
   "source": [
    "%pwd"
   ]
  },
  {
   "cell_type": "code",
   "execution_count": 3,
   "metadata": {},
   "outputs": [],
   "source": [
    "os.chdir(\"../\")"
   ]
  },
  {
   "cell_type": "code",
   "execution_count": 4,
   "metadata": {},
   "outputs": [
    {
     "data": {
      "text/plain": [
       "'c:\\\\Users\\\\Adithya\\\\Desktop\\\\chest_cancer_classification'"
      ]
     },
     "execution_count": 4,
     "metadata": {},
     "output_type": "execute_result"
    }
   ],
   "source": [
    "%pwd"
   ]
  },
  {
   "cell_type": "code",
   "execution_count": 5,
   "metadata": {},
   "outputs": [],
   "source": [
    "from dataclasses import dataclass\n",
    "from pathlib import Path\n",
    "\n",
    "\n",
    "@dataclass(frozen=True)\n",
    "class DataIngestionConfig:\n",
    "    root_dir: Path\n",
    "    source_URL: str\n",
    "    local_data_file: Path\n",
    "    unzip_dir: Path"
   ]
  },
  {
   "cell_type": "code",
   "execution_count": 6,
   "metadata": {},
   "outputs": [],
   "source": [
    "from cnnClassifier.constants import *\n",
    "from cnnClassifier.utils.common import read_yaml, create_directories"
   ]
  },
  {
   "cell_type": "code",
   "execution_count": 7,
   "metadata": {},
   "outputs": [],
   "source": [
    "class ConfigurationManager:\n",
    "    def __init__(\n",
    "        self,\n",
    "        config_filepath = CONFIG_FILE_PATH,\n",
    "        params_filepath = PARAMS_FILE_PATH):\n",
    "\n",
    "        self.config = read_yaml(config_filepath)\n",
    "        self.params = read_yaml(params_filepath)\n",
    "\n",
    "        create_directories([self.config.artifacts_root])\n",
    "\n",
    "\n",
    "    \n",
    "    def get_data_ingestion_config(self) -> DataIngestionConfig:\n",
    "        config = self.config.data_ingestion\n",
    "\n",
    "        create_directories([config.root_dir])\n",
    "\n",
    "        data_ingestion_config = DataIngestionConfig(\n",
    "            root_dir=config.root_dir,\n",
    "            source_URL=config.source_URL,\n",
    "            local_data_file=config.local_data_file,\n",
    "            unzip_dir=config.unzip_dir \n",
    "        )\n",
    "\n",
    "        return data_ingestion_config\n",
    "      "
   ]
  },
  {
   "cell_type": "code",
   "execution_count": 8,
   "metadata": {},
   "outputs": [],
   "source": [
    "import os\n",
    "import zipfile\n",
    "import gdown\n",
    "from cnnClassifier import logger\n",
    "from cnnClassifier.utils.common import get_size"
   ]
  },
  {
   "cell_type": "code",
   "execution_count": 9,
   "metadata": {},
   "outputs": [
    {
     "name": "stdout",
     "output_type": "stream",
     "text": [
      "[2024-10-12 13:52:16,569:INFO:2403714904:>>>>>> stage Data Ingestion stage started <<<<<<]\n",
      "[2024-10-12 13:52:16,569:INFO:2403714904:Downloading data from https://drive.google.com/file/d/11T_7lm2Fuhn94UR3PnKn6OtOjXsRO8qT/view?usp=sharing into file artifacts\\data_ingestion\\data.zip]\n"
     ]
    },
    {
     "name": "stderr",
     "output_type": "stream",
     "text": [
      "Downloading...\n",
      "From (original): https://drive.google.com/uc?export=download&id=11T_7lm2Fuhn94UR3PnKn6OtOjXsRO8qT\n",
      "From (redirected): https://drive.google.com/uc?export=download&id=11T_7lm2Fuhn94UR3PnKn6OtOjXsRO8qT&confirm=t&uuid=42b4b950-535c-43a1-95ba-93691999ffba\n",
      "To: c:\\Users\\Adithya\\Desktop\\chest_cancer_classification\\artifacts\\data_ingestion\\data.zip\n",
      "100%|██████████| 49.0M/49.0M [00:07<00:00, 6.23MB/s]"
     ]
    },
    {
     "name": "stdout",
     "output_type": "stream",
     "text": [
      "[2024-10-12 13:52:29,528:INFO:2403714904:Downloaded data from https://drive.google.com/file/d/11T_7lm2Fuhn94UR3PnKn6OtOjXsRO8qT/view?usp=sharing into file artifacts\\data_ingestion\\data.zip]\n"
     ]
    },
    {
     "name": "stderr",
     "output_type": "stream",
     "text": [
      "\n"
     ]
    },
    {
     "name": "stdout",
     "output_type": "stream",
     "text": [
      "[2024-10-12 13:52:30,166:INFO:2403714904:Extracted zip file to artifacts\\data_ingestion]\n",
      "[2024-10-12 13:52:30,166:INFO:2403714904:>>>>>> stage Data Ingestion completed <<<<<<]\n"
     ]
    }
   ],
   "source": [
    "import os\n",
    "import requests\n",
    "import zipfile\n",
    "import gdown\n",
    "import logging\n",
    "from pathlib import Path\n",
    "\n",
    "# Set up logging configuration\n",
    "logging.basicConfig(level=logging.INFO)\n",
    "logger = logging.getLogger(__name__)\n",
    "\n",
    "class DataIngestionConfig:\n",
    "    def __init__(self, source_URL, local_data_file, root_dir, unzip_dir):\n",
    "        self.source_URL = source_URL\n",
    "        self.local_data_file = Path(local_data_file)\n",
    "        self.root_dir = Path(root_dir)\n",
    "        self.unzip_dir = Path(unzip_dir)\n",
    "\n",
    "class DataIngestion:\n",
    "    def __init__(self, config: DataIngestionConfig):\n",
    "        self.config = config\n",
    "\n",
    "    def download_file(self) -> Path:\n",
    "        '''Fetch data from the URL.'''\n",
    "        try:\n",
    "            dataset_url = self.config.source_URL\n",
    "            zip_download_dir = self.config.local_data_file\n",
    "            download_dir = zip_download_dir.parent\n",
    "\n",
    "            # Ensure the download directory exists\n",
    "            download_dir.mkdir(parents=True, exist_ok=True)\n",
    "            logger.info(f\"Downloading data from {dataset_url} into file {zip_download_dir}\")\n",
    "\n",
    "            # Extract file ID for Google Drive if applicable\n",
    "            if \"drive.google.com\" in dataset_url:\n",
    "                file_id = dataset_url.split(\"/\")[-2]\n",
    "                prefix = 'https://drive.google.com/uc?export=download&id='\n",
    "                download_url = prefix + file_id\n",
    "            else:\n",
    "                download_url = dataset_url\n",
    "\n",
    "            # Download using gdown\n",
    "            gdown.download(download_url, str(zip_download_dir), quiet=False)\n",
    "\n",
    "            # Check if the file exists and is not empty\n",
    "            if not zip_download_dir.exists() or zip_download_dir.stat().st_size == 0:\n",
    "                raise Exception(\"Downloaded file is empty or does not exist. Please check the URL or file permissions.\")\n",
    "\n",
    "            logger.info(f\"Downloaded data from {dataset_url} into file {zip_download_dir}\")\n",
    "            return zip_download_dir\n",
    "\n",
    "        except Exception as e:\n",
    "            logger.error(f\"Error in downloading file: {e}\")\n",
    "            raise e\n",
    "\n",
    "    def extract_zip_file(self):\n",
    "        \"\"\"Extracts the zip file into the data directory.\"\"\"\n",
    "        try:\n",
    "            unzip_path = self.config.unzip_dir\n",
    "            unzip_path.mkdir(parents=True, exist_ok=True)  # Ensure the unzip directory exists\n",
    "\n",
    "            # Check if the file is actually a zip file\n",
    "            if not zipfile.is_zipfile(str(self.config.local_data_file)):\n",
    "                raise zipfile.BadZipFile(\"The downloaded file is not a zip file.\")\n",
    "\n",
    "            # Extract the zip file\n",
    "            with zipfile.ZipFile(str(self.config.local_data_file), 'r') as zip_ref:\n",
    "                zip_ref.extractall(unzip_path)\n",
    "            logger.info(f\"Extracted zip file to {unzip_path}\")\n",
    "\n",
    "        except zipfile.BadZipFile as bzfe:\n",
    "            logger.error(f\"BadZipFile error: {bzfe}\")\n",
    "            raise bzfe\n",
    "        except Exception as e:\n",
    "            logger.error(f\"Error in extracting zip file: {e}\")\n",
    "            raise e\n",
    "\n",
    "if __name__ == \"__main__\":\n",
    "    try:\n",
    "        # Example configuration (replace with your actual paths and URLs)\n",
    "        config = DataIngestionConfig(\n",
    "            source_URL=\"https://drive.google.com/file/d/11T_7lm2Fuhn94UR3PnKn6OtOjXsRO8qT/view?usp=sharing\",\n",
    "            local_data_file=\"artifacts/data_ingestion/data.zip\",\n",
    "            root_dir=\"artifacts/data_ingestion\",\n",
    "            unzip_dir=\"artifacts/data_ingestion\"\n",
    "        )\n",
    "        data_ingestion = DataIngestion(config)\n",
    "        logger.info(\">>>>>> stage Data Ingestion stage started <<<<<<\")\n",
    "        \n",
    "        # Download the data\n",
    "        data_ingestion.download_file()\n",
    "\n",
    "        # Extract the downloaded ZIP file\n",
    "        data_ingestion.extract_zip_file()\n",
    "\n",
    "        logger.info(\">>>>>> stage Data Ingestion completed <<<<<<\")\n",
    "\n",
    "    except Exception as e:\n",
    "        logger.error(f\"Error in Data Ingestion stage: {e}\")\n",
    "        raise e"
   ]
  },
  {
   "cell_type": "code",
   "execution_count": 10,
   "metadata": {},
   "outputs": [
    {
     "name": "stdout",
     "output_type": "stream",
     "text": [
      "[2024-10-12 13:52:30,190:INFO:common:yaml file: config\\config.yaml loaded successfully]\n",
      "[2024-10-12 13:52:30,222:INFO:common:yaml file: params.yaml loaded successfully]\n",
      "[2024-10-12 13:52:30,232:INFO:common:created directory at: artifacts]\n",
      "[2024-10-12 13:52:30,234:INFO:common:created directory at: artifacts/data_ingestion]\n",
      "[2024-10-12 13:52:30,234:INFO:2403714904:Downloading data from https://drive.google.com/file/d/11T_7lm2Fuhn94UR3PnKn6OtOjXsRO8qT/view?usp=sharing into file artifacts\\data_ingestion\\data.zip]\n"
     ]
    },
    {
     "name": "stderr",
     "output_type": "stream",
     "text": [
      "Downloading...\n",
      "From (original): https://drive.google.com/uc?export=download&id=11T_7lm2Fuhn94UR3PnKn6OtOjXsRO8qT\n",
      "From (redirected): https://drive.google.com/uc?export=download&id=11T_7lm2Fuhn94UR3PnKn6OtOjXsRO8qT&confirm=t&uuid=cb8a1632-8877-4bd2-b401-8d1f6a17dc82\n",
      "To: c:\\Users\\Adithya\\Desktop\\chest_cancer_classification\\artifacts\\data_ingestion\\data.zip\n",
      "100%|██████████| 49.0M/49.0M [00:07<00:00, 6.17MB/s]"
     ]
    },
    {
     "name": "stdout",
     "output_type": "stream",
     "text": [
      "[2024-10-12 13:52:42,841:INFO:2403714904:Downloaded data from https://drive.google.com/file/d/11T_7lm2Fuhn94UR3PnKn6OtOjXsRO8qT/view?usp=sharing into file artifacts\\data_ingestion\\data.zip]\n"
     ]
    },
    {
     "name": "stderr",
     "output_type": "stream",
     "text": [
      "\n"
     ]
    },
    {
     "name": "stdout",
     "output_type": "stream",
     "text": [
      "[2024-10-12 13:52:43,593:INFO:2403714904:Extracted zip file to artifacts\\data_ingestion]\n"
     ]
    }
   ],
   "source": [
    "try:\n",
    "    config = ConfigurationManager()\n",
    "    data_ingestion_config = config.get_data_ingestion_config()\n",
    "    data_ingestion = DataIngestion(config=data_ingestion_config)\n",
    "    data_ingestion.download_file()\n",
    "    data_ingestion.extract_zip_file()\n",
    "except Exception as e:\n",
    "    raise e"
   ]
  },
  {
   "cell_type": "code",
   "execution_count": null,
   "metadata": {},
   "outputs": [],
   "source": []
  }
 ],
 "metadata": {
  "kernelspec": {
   "display_name": "cancer",
   "language": "python",
   "name": "python3"
  },
  "language_info": {
   "codemirror_mode": {
    "name": "ipython",
    "version": 3
   },
   "file_extension": ".py",
   "mimetype": "text/x-python",
   "name": "python",
   "nbconvert_exporter": "python",
   "pygments_lexer": "ipython3",
   "version": "3.12.7"
  },
  "orig_nbformat": 4
 },
 "nbformat": 4,
 "nbformat_minor": 2
}
